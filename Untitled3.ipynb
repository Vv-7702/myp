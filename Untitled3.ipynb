{
  "nbformat": 4,
  "nbformat_minor": 0,
  "metadata": {
    "colab": {
      "provenance": [],
      "authorship_tag": "ABX9TyMoppmFxElQNvKquCEwiqet",
      "include_colab_link": true
    },
    "kernelspec": {
      "name": "python3",
      "display_name": "Python 3"
    },
    "language_info": {
      "name": "python"
    }
  },
  "cells": [
    {
      "cell_type": "markdown",
      "metadata": {
        "id": "view-in-github",
        "colab_type": "text"
      },
      "source": [
        "<a href=\"https://colab.research.google.com/github/Vv-7702/myp/blob/main/Untitled3.ipynb\" target=\"_parent\"><img src=\"https://colab.research.google.com/assets/colab-badge.svg\" alt=\"Open In Colab\"/></a>"
      ]
    },
    {
      "cell_type": "code",
      "execution_count": 2,
      "metadata": {
        "colab": {
          "base_uri": "https://localhost:8080/"
        },
        "id": "fLu0b5lAxkjN",
        "outputId": "18ea60ec-0c97-44dc-e722-b08c8c47dffc"
      },
      "outputs": [
        {
          "output_type": "stream",
          "name": "stdout",
          "text": [
            "Welcome to Password Generator!\n",
            "How many letters do you want in your password?\n",
            "4\n",
            "How many numbers do you want in your password?\n",
            "3\n",
            "How many symbols do you want in your password?\n",
            "2\n",
            "['m', 'l', 'K', 'V', '1', '1', '5', '%', '&']\n",
            "['%', 'l', '1', 'V', 'm', '1', '5', 'K', '&']\n",
            "%l1Vm15K&\n"
          ]
        }
      ],
      "source": [
        "import random\n",
        "\n",
        "letters=['a','b','c','d','e','f','g','h','i','j','k','l','m','n','o','p','q','r','s','t','u','v','w','x','y','z','A','B','C','D','E','F','G','H','I','J','K','L','M','N','O','P','Q','R','S','T','U','V','W','X','Y','Z']\n",
        "numbers=['0','1','2','3','4','5','6','7','8','9']\n",
        "symbols=['!','#','$','%','&','*','+','(',')','@']\n",
        "\n",
        "print(\"Welcome to Password Generator!\")\n",
        "n_letters=int(input(\"How many letters do you want in your password?\\n\"))\n",
        "n_numbers=int(input(\"How many numbers do you want in your password?\\n\"))\n",
        "n_symbols=int(input(\"How many symbols do you want in your password?\\n\"))\n",
        "password_list=[]\n",
        "for i in range(1,n_letters+1):\n",
        "  char=random.choice(letters)\n",
        "  password_list+=char\n",
        "for i in range(1,n_numbers+1):\n",
        "  char=random.choice(numbers)\n",
        "  password_list+=char\n",
        "for i in range(1,n_symbols+1):\n",
        "  char=random.choice(symbols)\n",
        "  password_list+=char\n",
        "\n",
        "print(password_list)\n",
        "random.shuffle(password_list)\n",
        "print(password_list)\n",
        "password=\"\"\n",
        "for char in password_list:\n",
        "  password +=char\n",
        "print(password)\n",
        "\n",
        "\n"
      ]
    }
  ]
}