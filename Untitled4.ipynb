{
  "nbformat": 4,
  "nbformat_minor": 0,
  "metadata": {
    "colab": {
      "provenance": [],
      "authorship_tag": "ABX9TyNP/BxLveaq2r78rAgl/eCG",
      "include_colab_link": true
    },
    "kernelspec": {
      "name": "python3",
      "display_name": "Python 3"
    },
    "language_info": {
      "name": "python"
    }
  },
  "cells": [
    {
      "cell_type": "markdown",
      "metadata": {
        "id": "view-in-github",
        "colab_type": "text"
      },
      "source": [
        "<a href=\"https://colab.research.google.com/github/Vv-7702/myp/blob/main/Untitled4.ipynb\" target=\"_parent\"><img src=\"https://colab.research.google.com/assets/colab-badge.svg\" alt=\"Open In Colab\"/></a>"
      ]
    },
    {
      "cell_type": "code",
      "execution_count": null,
      "metadata": {
        "colab": {
          "base_uri": "https://localhost:8080/"
        },
        "id": "erUG4E_WEhB0",
        "outputId": "756890ef-2194-450f-dfac-3c184394002e"
      },
      "outputs": [
        {
          "output_type": "stream",
          "name": "stdout",
          "text": [
            "Enter your choice: Type 0 for Rock, 1 for Paper, 2 for Scissors.0\n",
            "Computer choose: \n",
            "1\n",
            "You lose.\n"
          ]
        }
      ],
      "source": [
        "import random\n",
        "user_choice=int(input(\"Enter your choice: Type 0 for Rock, 1 for Paper, 2 for Scissors.\"))\n",
        "if user_choice>=3 or user_choice < 0:\n",
        "  print(\"You entered invalid number, You lose.\")\n",
        "else:\n",
        "  computer_choice=random.randint(0,2)\n",
        "  print(\"Computer choose: \")\n",
        "  print(computer_choice)\n",
        "  if computer_choice==user_choice:\n",
        "    print(\"It's a draw.\")\n",
        "  elif computer_choice==0 and user_choice==2:\n",
        "    print(\"You lose.\")\n",
        "  elif computer_choice==2 and user_choice==0:\n",
        "    print(\"You win.\")\n",
        "  elif computer_choice==0 and user_choice==2:\n",
        "    print(\"You lose.\")\n",
        "  elif computer_choice > user_choice:\n",
        "    print(\"You lose.\")\n",
        "  elif computer_choice < user_choice:\n",
        "    print(\"You win.\")\n",
        "\n"
      ]
    }
  ]
}