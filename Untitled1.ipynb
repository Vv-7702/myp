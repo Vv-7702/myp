{
  "nbformat": 4,
  "nbformat_minor": 0,
  "metadata": {
    "colab": {
      "provenance": [],
      "authorship_tag": "ABX9TyPot6T+DD0xjlcI+g3Y10hP",
      "include_colab_link": true
    },
    "kernelspec": {
      "name": "python3",
      "display_name": "Python 3"
    },
    "language_info": {
      "name": "python"
    }
  },
  "cells": [
    {
      "cell_type": "markdown",
      "metadata": {
        "id": "view-in-github",
        "colab_type": "text"
      },
      "source": [
        "<a href=\"https://colab.research.google.com/github/Vv-7702/myp/blob/main/Untitled1.ipynb\" target=\"_parent\"><img src=\"https://colab.research.google.com/assets/colab-badge.svg\" alt=\"Open In Colab\"/></a>"
      ]
    },
    {
      "cell_type": "code",
      "execution_count": 8,
      "metadata": {
        "colab": {
          "base_uri": "https://localhost:8080/",
          "height": 826
        },
        "id": "W9CX1AYpY4ey",
        "outputId": "e35a0bd2-d74c-446b-9baa-ee9c9e8d3d92"
      },
      "outputs": [
        {
          "name": "stdout",
          "output_type": "stream",
          "text": [
            "\n",
            "Options: \n",
            "1. Add Task\n",
            "2. View Task\n",
            "3. Delete Task\n",
            "4. Exit\n",
            "Enter your choice (1/2/3/4)2\n",
            "No Tasks Found.\n",
            "\n",
            "Options: \n",
            "1. Add Task\n",
            "2. View Task\n",
            "3. Delete Task\n",
            "4. Exit\n",
            "Enter your choice (1/2/3/4)3\n",
            "No Tasks Found.\n",
            "Enter the task index to delete:1\n",
            "Invalid task Index.\n",
            "\n",
            "Options: \n",
            "1. Add Task\n",
            "2. View Task\n",
            "3. Delete Task\n",
            "4. Exit\n",
            "Enter your choice (1/2/3/4)1\n",
            "Enter task Description:Upload this video on code doc\n",
            "Enter Due Date: 28th of July\n"
          ]
        },
        {
          "output_type": "error",
          "ename": "KeyError",
          "evalue": "ignored",
          "traceback": [
            "\u001b[0;31m---------------------------------------------------------------------------\u001b[0m",
            "\u001b[0;31mKeyError\u001b[0m                                  Traceback (most recent call last)",
            "\u001b[0;32m<ipython-input-8-4c1b5e227006>\u001b[0m in \u001b[0;36m<cell line: 64>\u001b[0;34m()\u001b[0m\n\u001b[1;32m     63\u001b[0m \u001b[0;34m\u001b[0m\u001b[0m\n\u001b[1;32m     64\u001b[0m \u001b[0;32mif\u001b[0m \u001b[0m__name__\u001b[0m \u001b[0;34m==\u001b[0m \u001b[0;34m\"__main__\"\u001b[0m\u001b[0;34m:\u001b[0m\u001b[0;34m\u001b[0m\u001b[0;34m\u001b[0m\u001b[0m\n\u001b[0;32m---> 65\u001b[0;31m   \u001b[0mmain\u001b[0m\u001b[0;34m(\u001b[0m\u001b[0;34m)\u001b[0m\u001b[0;34m\u001b[0m\u001b[0;34m\u001b[0m\u001b[0m\n\u001b[0m",
            "\u001b[0;32m<ipython-input-8-4c1b5e227006>\u001b[0m in \u001b[0;36mmain\u001b[0;34m()\u001b[0m\n\u001b[1;32m     47\u001b[0m       \u001b[0mdue_task\u001b[0m\u001b[0;34m=\u001b[0m\u001b[0minput\u001b[0m\u001b[0;34m(\u001b[0m\u001b[0;34m\"Enter Due Date: \"\u001b[0m\u001b[0;34m)\u001b[0m\u001b[0;34m\u001b[0m\u001b[0;34m\u001b[0m\u001b[0m\n\u001b[1;32m     48\u001b[0m       \u001b[0madd_task\u001b[0m\u001b[0;34m(\u001b[0m\u001b[0mtasks\u001b[0m\u001b[0;34m,\u001b[0m\u001b[0mdescription\u001b[0m\u001b[0;34m,\u001b[0m\u001b[0mdue_task\u001b[0m\u001b[0;34m)\u001b[0m\u001b[0;34m\u001b[0m\u001b[0;34m\u001b[0m\u001b[0m\n\u001b[0;32m---> 49\u001b[0;31m       \u001b[0msave_task_to_file\u001b[0m\u001b[0;34m(\u001b[0m\u001b[0mtasks\u001b[0m\u001b[0;34m,\u001b[0m\u001b[0mfile_path\u001b[0m\u001b[0;34m)\u001b[0m\u001b[0;34m\u001b[0m\u001b[0;34m\u001b[0m\u001b[0m\n\u001b[0m\u001b[1;32m     50\u001b[0m     \u001b[0;32melif\u001b[0m \u001b[0mchoice\u001b[0m\u001b[0;34m==\u001b[0m\u001b[0;34m'2'\u001b[0m\u001b[0;34m:\u001b[0m\u001b[0;34m\u001b[0m\u001b[0;34m\u001b[0m\u001b[0m\n\u001b[1;32m     51\u001b[0m       \u001b[0mview_task\u001b[0m\u001b[0;34m(\u001b[0m\u001b[0mtasks\u001b[0m\u001b[0;34m)\u001b[0m\u001b[0;34m\u001b[0m\u001b[0;34m\u001b[0m\u001b[0m\n",
            "\u001b[0;32m<ipython-input-8-4c1b5e227006>\u001b[0m in \u001b[0;36msave_task_to_file\u001b[0;34m(tasks, file_path)\u001b[0m\n\u001b[1;32m     21\u001b[0m     \u001b[0;32mwith\u001b[0m \u001b[0mopen\u001b[0m\u001b[0;34m(\u001b[0m\u001b[0mfile_path\u001b[0m\u001b[0;34m,\u001b[0m\u001b[0;34m'w'\u001b[0m\u001b[0;34m)\u001b[0m \u001b[0;32mas\u001b[0m \u001b[0mf\u001b[0m\u001b[0;34m:\u001b[0m\u001b[0;34m\u001b[0m\u001b[0;34m\u001b[0m\u001b[0m\n\u001b[1;32m     22\u001b[0m        \u001b[0;32mfor\u001b[0m \u001b[0mtask\u001b[0m \u001b[0;32min\u001b[0m \u001b[0mtasks\u001b[0m\u001b[0;34m:\u001b[0m\u001b[0;34m\u001b[0m\u001b[0;34m\u001b[0m\u001b[0m\n\u001b[0;32m---> 23\u001b[0;31m         \u001b[0mf\u001b[0m\u001b[0;34m.\u001b[0m\u001b[0mwrite\u001b[0m\u001b[0;34m(\u001b[0m\u001b[0;34mf\"{task['description']} {task['due_date']}\\n\"\u001b[0m\u001b[0;34m)\u001b[0m\u001b[0;34m\u001b[0m\u001b[0;34m\u001b[0m\u001b[0m\n\u001b[0m\u001b[1;32m     24\u001b[0m \u001b[0;34m\u001b[0m\u001b[0m\n\u001b[1;32m     25\u001b[0m \u001b[0;32mdef\u001b[0m \u001b[0mload_task_from_file\u001b[0m\u001b[0;34m(\u001b[0m\u001b[0mfile_path\u001b[0m\u001b[0;34m)\u001b[0m\u001b[0;34m:\u001b[0m\u001b[0;34m\u001b[0m\u001b[0;34m\u001b[0m\u001b[0m\n",
            "\u001b[0;31mKeyError\u001b[0m: 'due_date'"
          ]
        }
      ],
      "source": [
        "import os\n",
        "\n",
        "def add_task(tasks,description,due_date):\n",
        "  tasks.append({\"description\": description,\"due date\": due_date})\n",
        "def view_task(tasks):\n",
        "  if not tasks:\n",
        "    print(\"No Tasks Found.\")\n",
        "  else:\n",
        "    print(\"Tasks: \")\n",
        "    for idx,task in enumerate(tasks,start=1):\n",
        "        print(f\"{idx}.{task['description']}- Due Date: {task['due_date']}\")\n",
        "\n",
        "def delete_task(tasks,task_index):\n",
        "  if 1 <= task_index <= len(tasks):\n",
        "     del tasks[task_index-1]\n",
        "     print(\"Task Deleted Successfully\")\n",
        "  else:\n",
        "    print(\"Invalid task Index.\")\n",
        "\n",
        "def save_task_to_file(tasks,file_path):\n",
        "    with open(file_path,'w') as f:\n",
        "       for task in tasks:\n",
        "        f.write(f\"{task['description']} {task['due_date']}\\n\")\n",
        "\n",
        "def load_task_from_file(file_path):\n",
        "  tasks=[]\n",
        "  if os.path.exists(file_path):\n",
        "    with open(file_path,'r') as f:\n",
        "      for line in f:\n",
        "        description,due_date=line.strip().split('|')\n",
        "        tasks.append({\"description\": description, \"due_date\" : due_date})\n",
        "  return tasks\n",
        "\n",
        "def main():\n",
        "  tasks=[]\n",
        "  file_path=\"tasks.txt\"\n",
        "  tasks=load_task_from_file(file_path)\n",
        "  while True:\n",
        "    print(\"\\nOptions: \")\n",
        "    print(\"1. Add Task\")\n",
        "    print(\"2. View Task\")\n",
        "    print(\"3. Delete Task\")\n",
        "    print(\"4. Exit\")\n",
        "    choice = input(\"Enter your choice (1/2/3/4)\")\n",
        "    if choice == '1':\n",
        "      description = input(\"Enter task Description:\")\n",
        "      due_task=input(\"Enter Due Date: \")\n",
        "      add_task(tasks,description,due_task)\n",
        "      save_task_to_file(tasks,file_path)\n",
        "    elif choice=='2':\n",
        "      view_task(tasks)\n",
        "    elif choice=='3':\n",
        "      view_task(tasks)\n",
        "      task_index = int((input(\"Enter the task index to delete:\")))\n",
        "      delete_task(tasks,task_index)\n",
        "      save_task_to_file(tasks,file_path)\n",
        "    elif choice=='4':\n",
        "      print(\"Exiting the program\")\n",
        "      break\n",
        "    else:\n",
        "      print(\"Invalid choice. Please Try again\")\n",
        "\n",
        "\n",
        "if __name__ == \"__main__\":\n",
        "  main()\n"
      ]
    },
    {
      "cell_type": "markdown",
      "source": [],
      "metadata": {
        "id": "yku5PrzXh5Qt"
      }
    },
    {
      "cell_type": "markdown",
      "source": [],
      "metadata": {
        "id": "MgvIoyJsh6Fg"
      }
    }
  ]
}