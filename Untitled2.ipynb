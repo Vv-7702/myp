{
  "nbformat": 4,
  "nbformat_minor": 0,
  "metadata": {
    "colab": {
      "provenance": [],
      "authorship_tag": "ABX9TyO3tL6uiG83iX5oMB4QwwWy",
      "include_colab_link": true
    },
    "kernelspec": {
      "name": "python3",
      "display_name": "Python 3"
    },
    "language_info": {
      "name": "python"
    }
  },
  "cells": [
    {
      "cell_type": "markdown",
      "metadata": {
        "id": "view-in-github",
        "colab_type": "text"
      },
      "source": [
        "<a href=\"https://colab.research.google.com/github/Vv-7702/myp/blob/main/Untitled2.ipynb\" target=\"_parent\"><img src=\"https://colab.research.google.com/assets/colab-badge.svg\" alt=\"Open In Colab\"/></a>"
      ]
    },
    {
      "cell_type": "code",
      "execution_count": null,
      "metadata": {
        "colab": {
          "base_uri": "https://localhost:8080/"
        },
        "id": "EjQG5oZxmmln",
        "outputId": "c11ab2de-3cae-49ac-e30b-32a3371193b8"
      },
      "outputs": [
        {
          "output_type": "stream",
          "name": "stdout",
          "text": [
            "Select Operation : \n",
            "1.Add\n",
            "2.Subtract\n",
            "3.Multiply\n",
            "4.Divison\n",
            "2\n",
            "Enter first number: 23\n",
            "Enter second number: 54\n",
            "-31\n"
          ]
        }
      ],
      "source": [
        "print(\"Select Operation : \")\n",
        "print(\"1.Add\")\n",
        "print(\"2.Subtract\")\n",
        "print(\"3.Multiply\")\n",
        "print(\"4.Divison\")\n",
        "\n",
        "operation=input()\n",
        "\n",
        "if operation == \"1\":\n",
        "  num1=int(input(\"Enter first number: \"))\n",
        "  num2=int(input(\"Enter second number: \"))\n",
        "  print(num1+num2)\n",
        "elif operation == \"2\":\n",
        "  num1=int(input(\"Enter first number: \"))\n",
        "  num2=int(input(\"Enter second number: \"))\n",
        "  print(num1-num2)\n",
        "elif operation == \"3\":\n",
        "  num1=int(input(\"Enter first number: \"))\n",
        "  num2=int(input(\"Enter second number: \"))\n",
        "  print(num1*num2)\n",
        "elif operation == \"4\":\n",
        "  num1=int(input(\"Enter first number: \"))\n",
        "  num2=int(input(\"Enter second number: \"))\n",
        "  print(num1/num2)\n",
        "else:\n",
        "  print(\"Invalid Operation\")"
      ]
    }
  ]
}